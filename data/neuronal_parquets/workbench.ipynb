{
 "cells": [
  {
   "cell_type": "code",
   "execution_count": 6,
   "metadata": {},
   "outputs": [
    {
     "name": "stdout",
     "output_type": "stream",
     "text": [
      "First 10 sentences:\n",
      "                                                                                                                                                                                                                                               text\n",
      "0                                                                                                                                    A magazine supplement with an image of Adolf Hitler and the title 'The Unreadable Book' is pictured in Berlin.\n",
      "1                                                                                                                                                       For today’s post, I’d like to take a look at California’s voter initiative to legalize pot.\n",
      "2       Anarchists in solidarity with the purged immigrants of Agios Panteleimonas ventured once again to open the public playground which is kept locked by fascists in favor of segregation, leading to battle with riot police and five arrests.\n",
      "3                                       The 45-year-old “highway shooter” who engaged in a 12-minute shootout with California Highway Patrol officers earlier this year now says Fox News host Glenn Beck has been an inspiration for his activity.\n",
      "4                                                                                             Drivers who are repeatedly caught drunk behind the wheel could lose their license for up to a decade under legislation signed by the governor Monday.\n",
      "5  While it’s good to see that number of obese and overweight children has (slightly) fallen for those starting school, one in 10 children is still entering reception obese or overweight, rising to one in five at the start of secondary school.\n",
      "6                                                                                                           The Reds announced that they signed free agent outfielder Ryan Ludwick to a two-year deal with a mutual option for 2015 (Twitter link).\n",
      "7                                                                                                                                                               Many things have changed since I wrote this post, check out updates on shadow-cljs.\n",
      "8                                                                                                                                                                                                This is Israel in 2012 according to a top UN body.\n",
      "9                                                                                RCMP Commissioner Bob Paulson says the OPP's much-anticipated report into the RCMP's response to the Parliament Hill shootings will be released this week or next.\n",
      "10000\n"
     ]
    }
   ],
   "source": [
    "import pandas as pd\n",
    "\n",
    "# Read the parquet file\n",
    "df = pd.read_parquet(\"openwebtext_first_sentences.parquet\")\n",
    "\n",
    "# Display first 10 rows with full text\n",
    "print(\"First 10 sentences:\")\n",
    "pd.set_option('display.max_colwidth', None)\n",
    "print(df.head(10))\n",
    "print(len(df))\n"
   ]
  }
 ],
 "metadata": {
  "kernelspec": {
   "display_name": ".venv",
   "language": "python",
   "name": "python3"
  },
  "language_info": {
   "codemirror_mode": {
    "name": "ipython",
    "version": 3
   },
   "file_extension": ".py",
   "mimetype": "text/x-python",
   "name": "python",
   "nbconvert_exporter": "python",
   "pygments_lexer": "ipython3",
   "version": "3.12.7"
  }
 },
 "nbformat": 4,
 "nbformat_minor": 2
}
